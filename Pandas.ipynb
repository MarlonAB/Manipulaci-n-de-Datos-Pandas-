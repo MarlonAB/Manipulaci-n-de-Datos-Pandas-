{
  "nbformat": 4,
  "nbformat_minor": 0,
  "metadata": {
    "colab": {
      "name": "Pandas.ipynb",
      "provenance": [],
      "collapsed_sections": [],
      "toc_visible": true,
      "authorship_tag": "ABX9TyO7j+tczc+DO588kMYQwd8e",
      "include_colab_link": true
    },
    "kernelspec": {
      "name": "python3",
      "display_name": "Python 3"
    }
  },
  "cells": [
    {
      "cell_type": "markdown",
      "metadata": {
        "id": "view-in-github",
        "colab_type": "text"
      },
      "source": [
        "<a href=\"https://colab.research.google.com/github/MarlonAB/ManipulacionDeDatos_Pandas/blob/master/Pandas.ipynb\" target=\"_parent\"><img src=\"https://colab.research.google.com/assets/colab-badge.svg\" alt=\"Open In Colab\"/></a>"
      ]
    },
    {
      "cell_type": "markdown",
      "metadata": {
        "id": "vv32qIWIkEU_",
        "colab_type": "text"
      },
      "source": [
        "**Pandas. Biblioteca para la manipulación de datos**"
      ]
    },
    {
      "cell_type": "code",
      "metadata": {
        "id": "ht9nKDVFkafn",
        "colab_type": "code",
        "colab": {}
      },
      "source": [
        "import pandas as pd\n",
        "import matplotlib.pyplot as plt"
      ],
      "execution_count": 0,
      "outputs": []
    },
    {
      "cell_type": "code",
      "metadata": {
        "id": "eRdZFZQvkay-",
        "colab_type": "code",
        "colab": {}
      },
      "source": [
        "data = pd.read_csv('/content/car.csv', header=None)"
      ],
      "execution_count": 0,
      "outputs": []
    },
    {
      "cell_type": "code",
      "metadata": {
        "id": "1w-81bOtka13",
        "colab_type": "code",
        "colab": {}
      },
      "source": [
        "data.columns = ['Price', 'Maintenance Cost','Number de Doors','Capacity','Size of luggage Bot', 'Safety', 'Decision']"
      ],
      "execution_count": 0,
      "outputs": []
    },
    {
      "cell_type": "markdown",
      "metadata": {
        "id": "js0-FcGTuGor",
        "colab_type": "text"
      },
      "source": [
        "***Mostrando los primeros 5 primeros datos***"
      ]
    },
    {
      "cell_type": "code",
      "metadata": {
        "id": "HjPz1A8oka4u",
        "colab_type": "code",
        "outputId": "b19f671e-970a-44bc-b60b-c9d8d69a5f0a",
        "colab": {
          "base_uri": "https://localhost:8080/",
          "height": 204
        }
      },
      "source": [
        "data.head(5)"
      ],
      "execution_count": 0,
      "outputs": [
        {
          "output_type": "execute_result",
          "data": {
            "text/html": [
              "<div>\n",
              "<style scoped>\n",
              "    .dataframe tbody tr th:only-of-type {\n",
              "        vertical-align: middle;\n",
              "    }\n",
              "\n",
              "    .dataframe tbody tr th {\n",
              "        vertical-align: top;\n",
              "    }\n",
              "\n",
              "    .dataframe thead th {\n",
              "        text-align: right;\n",
              "    }\n",
              "</style>\n",
              "<table border=\"1\" class=\"dataframe\">\n",
              "  <thead>\n",
              "    <tr style=\"text-align: right;\">\n",
              "      <th></th>\n",
              "      <th>Price</th>\n",
              "      <th>Maintenance Cost</th>\n",
              "      <th>Number de Doors</th>\n",
              "      <th>Capacity</th>\n",
              "      <th>Size of luggage Bot</th>\n",
              "      <th>Safety</th>\n",
              "      <th>Decision</th>\n",
              "    </tr>\n",
              "  </thead>\n",
              "  <tbody>\n",
              "    <tr>\n",
              "      <th>0</th>\n",
              "      <td>vhigh</td>\n",
              "      <td>vhigh</td>\n",
              "      <td>2</td>\n",
              "      <td>2</td>\n",
              "      <td>small</td>\n",
              "      <td>low</td>\n",
              "      <td>unacc</td>\n",
              "    </tr>\n",
              "    <tr>\n",
              "      <th>1</th>\n",
              "      <td>vhigh</td>\n",
              "      <td>vhigh</td>\n",
              "      <td>2</td>\n",
              "      <td>2</td>\n",
              "      <td>small</td>\n",
              "      <td>med</td>\n",
              "      <td>unacc</td>\n",
              "    </tr>\n",
              "    <tr>\n",
              "      <th>2</th>\n",
              "      <td>vhigh</td>\n",
              "      <td>vhigh</td>\n",
              "      <td>2</td>\n",
              "      <td>2</td>\n",
              "      <td>small</td>\n",
              "      <td>high</td>\n",
              "      <td>unacc</td>\n",
              "    </tr>\n",
              "    <tr>\n",
              "      <th>3</th>\n",
              "      <td>vhigh</td>\n",
              "      <td>vhigh</td>\n",
              "      <td>2</td>\n",
              "      <td>2</td>\n",
              "      <td>med</td>\n",
              "      <td>low</td>\n",
              "      <td>unacc</td>\n",
              "    </tr>\n",
              "    <tr>\n",
              "      <th>4</th>\n",
              "      <td>vhigh</td>\n",
              "      <td>vhigh</td>\n",
              "      <td>2</td>\n",
              "      <td>2</td>\n",
              "      <td>med</td>\n",
              "      <td>med</td>\n",
              "      <td>unacc</td>\n",
              "    </tr>\n",
              "  </tbody>\n",
              "</table>\n",
              "</div>"
            ],
            "text/plain": [
              "   Price Maintenance Cost Number de Doors  ... Size of luggage Bot Safety Decision\n",
              "0  vhigh            vhigh               2  ...               small    low    unacc\n",
              "1  vhigh            vhigh               2  ...               small    med    unacc\n",
              "2  vhigh            vhigh               2  ...               small   high    unacc\n",
              "3  vhigh            vhigh               2  ...                 med    low    unacc\n",
              "4  vhigh            vhigh               2  ...                 med    med    unacc\n",
              "\n",
              "[5 rows x 7 columns]"
            ]
          },
          "metadata": {
            "tags": []
          },
          "execution_count": 10
        }
      ]
    },
    {
      "cell_type": "markdown",
      "metadata": {
        "id": "p4xv_gFUqxhA",
        "colab_type": "text"
      },
      "source": [
        "**Método para mostrar datos de manera aleatoria**\n"
      ]
    },
    {
      "cell_type": "code",
      "metadata": {
        "id": "ndb6VZuBka7f",
        "colab_type": "code",
        "outputId": "7f70815b-144f-41b0-bd77-98822010904b",
        "colab": {
          "base_uri": "https://localhost:8080/",
          "height": 204
        }
      },
      "source": [
        "data.sample(5)"
      ],
      "execution_count": 0,
      "outputs": [
        {
          "output_type": "execute_result",
          "data": {
            "text/html": [
              "<div>\n",
              "<style scoped>\n",
              "    .dataframe tbody tr th:only-of-type {\n",
              "        vertical-align: middle;\n",
              "    }\n",
              "\n",
              "    .dataframe tbody tr th {\n",
              "        vertical-align: top;\n",
              "    }\n",
              "\n",
              "    .dataframe thead th {\n",
              "        text-align: right;\n",
              "    }\n",
              "</style>\n",
              "<table border=\"1\" class=\"dataframe\">\n",
              "  <thead>\n",
              "    <tr style=\"text-align: right;\">\n",
              "      <th></th>\n",
              "      <th>Price</th>\n",
              "      <th>Maintenance Cost</th>\n",
              "      <th>Number de Doors</th>\n",
              "      <th>Capacity</th>\n",
              "      <th>Size of luggage Bot</th>\n",
              "      <th>Safety</th>\n",
              "      <th>Decision</th>\n",
              "    </tr>\n",
              "  </thead>\n",
              "  <tbody>\n",
              "    <tr>\n",
              "      <th>1462</th>\n",
              "      <td>low</td>\n",
              "      <td>high</td>\n",
              "      <td>4</td>\n",
              "      <td>2</td>\n",
              "      <td>med</td>\n",
              "      <td>med</td>\n",
              "      <td>unacc</td>\n",
              "    </tr>\n",
              "    <tr>\n",
              "      <th>951</th>\n",
              "      <td>med</td>\n",
              "      <td>vhigh</td>\n",
              "      <td>5more</td>\n",
              "      <td>2</td>\n",
              "      <td>big</td>\n",
              "      <td>low</td>\n",
              "      <td>unacc</td>\n",
              "    </tr>\n",
              "    <tr>\n",
              "      <th>1563</th>\n",
              "      <td>low</td>\n",
              "      <td>med</td>\n",
              "      <td>3</td>\n",
              "      <td>more</td>\n",
              "      <td>big</td>\n",
              "      <td>low</td>\n",
              "      <td>unacc</td>\n",
              "    </tr>\n",
              "    <tr>\n",
              "      <th>1505</th>\n",
              "      <td>low</td>\n",
              "      <td>high</td>\n",
              "      <td>5more</td>\n",
              "      <td>more</td>\n",
              "      <td>small</td>\n",
              "      <td>high</td>\n",
              "      <td>acc</td>\n",
              "    </tr>\n",
              "    <tr>\n",
              "      <th>1049</th>\n",
              "      <td>med</td>\n",
              "      <td>high</td>\n",
              "      <td>4</td>\n",
              "      <td>more</td>\n",
              "      <td>med</td>\n",
              "      <td>high</td>\n",
              "      <td>acc</td>\n",
              "    </tr>\n",
              "  </tbody>\n",
              "</table>\n",
              "</div>"
            ],
            "text/plain": [
              "     Price Maintenance Cost Number de Doors  ... Size of luggage Bot Safety Decision\n",
              "1462   low             high               4  ...                 med    med    unacc\n",
              "951    med            vhigh           5more  ...                 big    low    unacc\n",
              "1563   low              med               3  ...                 big    low    unacc\n",
              "1505   low             high           5more  ...               small   high      acc\n",
              "1049   med             high               4  ...                 med   high      acc\n",
              "\n",
              "[5 rows x 7 columns]"
            ]
          },
          "metadata": {
            "tags": []
          },
          "execution_count": 15
        }
      ]
    },
    {
      "cell_type": "markdown",
      "metadata": {
        "id": "JG1vWlYOrKcg",
        "colab_type": "text"
      },
      "source": [
        "***Método para mostrar los ultimos 5 datos***"
      ]
    },
    {
      "cell_type": "code",
      "metadata": {
        "id": "zPcq8Rtvka-v",
        "colab_type": "code",
        "outputId": "94db9a32-8b92-4339-a877-e047aa72eb60",
        "colab": {
          "base_uri": "https://localhost:8080/",
          "height": 204
        }
      },
      "source": [
        "data.tail(5)"
      ],
      "execution_count": 0,
      "outputs": [
        {
          "output_type": "execute_result",
          "data": {
            "text/html": [
              "<div>\n",
              "<style scoped>\n",
              "    .dataframe tbody tr th:only-of-type {\n",
              "        vertical-align: middle;\n",
              "    }\n",
              "\n",
              "    .dataframe tbody tr th {\n",
              "        vertical-align: top;\n",
              "    }\n",
              "\n",
              "    .dataframe thead th {\n",
              "        text-align: right;\n",
              "    }\n",
              "</style>\n",
              "<table border=\"1\" class=\"dataframe\">\n",
              "  <thead>\n",
              "    <tr style=\"text-align: right;\">\n",
              "      <th></th>\n",
              "      <th>Price</th>\n",
              "      <th>Maintenance Cost</th>\n",
              "      <th>Number de Doors</th>\n",
              "      <th>Capacity</th>\n",
              "      <th>Size of luggage Bot</th>\n",
              "      <th>Safety</th>\n",
              "      <th>Decision</th>\n",
              "    </tr>\n",
              "  </thead>\n",
              "  <tbody>\n",
              "    <tr>\n",
              "      <th>1723</th>\n",
              "      <td>low</td>\n",
              "      <td>low</td>\n",
              "      <td>5more</td>\n",
              "      <td>more</td>\n",
              "      <td>med</td>\n",
              "      <td>med</td>\n",
              "      <td>good</td>\n",
              "    </tr>\n",
              "    <tr>\n",
              "      <th>1724</th>\n",
              "      <td>low</td>\n",
              "      <td>low</td>\n",
              "      <td>5more</td>\n",
              "      <td>more</td>\n",
              "      <td>med</td>\n",
              "      <td>high</td>\n",
              "      <td>vgood</td>\n",
              "    </tr>\n",
              "    <tr>\n",
              "      <th>1725</th>\n",
              "      <td>low</td>\n",
              "      <td>low</td>\n",
              "      <td>5more</td>\n",
              "      <td>more</td>\n",
              "      <td>big</td>\n",
              "      <td>low</td>\n",
              "      <td>unacc</td>\n",
              "    </tr>\n",
              "    <tr>\n",
              "      <th>1726</th>\n",
              "      <td>low</td>\n",
              "      <td>low</td>\n",
              "      <td>5more</td>\n",
              "      <td>more</td>\n",
              "      <td>big</td>\n",
              "      <td>med</td>\n",
              "      <td>good</td>\n",
              "    </tr>\n",
              "    <tr>\n",
              "      <th>1727</th>\n",
              "      <td>low</td>\n",
              "      <td>low</td>\n",
              "      <td>5more</td>\n",
              "      <td>more</td>\n",
              "      <td>big</td>\n",
              "      <td>high</td>\n",
              "      <td>vgood</td>\n",
              "    </tr>\n",
              "  </tbody>\n",
              "</table>\n",
              "</div>"
            ],
            "text/plain": [
              "     Price Maintenance Cost Number de Doors  ... Size of luggage Bot Safety Decision\n",
              "1723   low              low           5more  ...                 med    med     good\n",
              "1724   low              low           5more  ...                 med   high    vgood\n",
              "1725   low              low           5more  ...                 big    low    unacc\n",
              "1726   low              low           5more  ...                 big    med     good\n",
              "1727   low              low           5more  ...                 big   high    vgood\n",
              "\n",
              "[5 rows x 7 columns]"
            ]
          },
          "metadata": {
            "tags": []
          },
          "execution_count": 16
        }
      ]
    },
    {
      "cell_type": "markdown",
      "metadata": {
        "id": "nvQB7QaCwFX7",
        "colab_type": "text"
      },
      "source": [
        "***Cantidad de elementos y columnas***"
      ]
    },
    {
      "cell_type": "code",
      "metadata": {
        "id": "Ae1qdpn0kbF-",
        "colab_type": "code",
        "outputId": "5e373d5f-63e3-4270-c53f-a395e0f4c694",
        "colab": {
          "base_uri": "https://localhost:8080/",
          "height": 34
        }
      },
      "source": [
        "data.shape"
      ],
      "execution_count": 0,
      "outputs": [
        {
          "output_type": "execute_result",
          "data": {
            "text/plain": [
              "(1728, 7)"
            ]
          },
          "metadata": {
            "tags": []
          },
          "execution_count": 18
        }
      ]
    },
    {
      "cell_type": "markdown",
      "metadata": {
        "id": "9eHcc7NVwsVP",
        "colab_type": "text"
      },
      "source": [
        "***Total de Datos FilasxColumnas***"
      ]
    },
    {
      "cell_type": "code",
      "metadata": {
        "id": "rxuJuVrUwr1-",
        "colab_type": "code",
        "outputId": "1fe4d985-32d9-4ef0-f864-fe706df87796",
        "colab": {
          "base_uri": "https://localhost:8080/",
          "height": 34
        }
      },
      "source": [
        "data.size"
      ],
      "execution_count": 0,
      "outputs": [
        {
          "output_type": "execute_result",
          "data": {
            "text/plain": [
              "12096"
            ]
          },
          "metadata": {
            "tags": []
          },
          "execution_count": 19
        }
      ]
    },
    {
      "cell_type": "markdown",
      "metadata": {
        "id": "oQgj7CGIxw74",
        "colab_type": "text"
      },
      "source": [
        "***Mostrar una columna con 3 elementos de manera aleatoria***"
      ]
    },
    {
      "cell_type": "code",
      "metadata": {
        "id": "bbbcigTpxERn",
        "colab_type": "code",
        "outputId": "564c0b5a-727d-4e07-d738-c469c00f9505",
        "colab": {
          "base_uri": "https://localhost:8080/",
          "height": 85
        }
      },
      "source": [
        "data['Price'].sample(3)"
      ],
      "execution_count": 0,
      "outputs": [
        {
          "output_type": "execute_result",
          "data": {
            "text/plain": [
              "1166      med\n",
              "127     vhigh\n",
              "708      high\n",
              "Name: Price, dtype: object"
            ]
          },
          "metadata": {
            "tags": []
          },
          "execution_count": 20
        }
      ]
    },
    {
      "cell_type": "markdown",
      "metadata": {
        "id": "anQmlxOYzMTJ",
        "colab_type": "text"
      },
      "source": [
        "***Mostrar dos columnas con los datos de las 5 ultimas filas***"
      ]
    },
    {
      "cell_type": "code",
      "metadata": {
        "id": "OmPBJMaByvOf",
        "colab_type": "code",
        "outputId": "0f8a4d98-94eb-4ed7-e600-c78dd716c992",
        "colab": {
          "base_uri": "https://localhost:8080/",
          "height": 204
        }
      },
      "source": [
        "data[['Price','Decision']].tail()"
      ],
      "execution_count": 0,
      "outputs": [
        {
          "output_type": "execute_result",
          "data": {
            "text/html": [
              "<div>\n",
              "<style scoped>\n",
              "    .dataframe tbody tr th:only-of-type {\n",
              "        vertical-align: middle;\n",
              "    }\n",
              "\n",
              "    .dataframe tbody tr th {\n",
              "        vertical-align: top;\n",
              "    }\n",
              "\n",
              "    .dataframe thead th {\n",
              "        text-align: right;\n",
              "    }\n",
              "</style>\n",
              "<table border=\"1\" class=\"dataframe\">\n",
              "  <thead>\n",
              "    <tr style=\"text-align: right;\">\n",
              "      <th></th>\n",
              "      <th>Price</th>\n",
              "      <th>Decision</th>\n",
              "    </tr>\n",
              "  </thead>\n",
              "  <tbody>\n",
              "    <tr>\n",
              "      <th>1723</th>\n",
              "      <td>low</td>\n",
              "      <td>good</td>\n",
              "    </tr>\n",
              "    <tr>\n",
              "      <th>1724</th>\n",
              "      <td>low</td>\n",
              "      <td>vgood</td>\n",
              "    </tr>\n",
              "    <tr>\n",
              "      <th>1725</th>\n",
              "      <td>low</td>\n",
              "      <td>unacc</td>\n",
              "    </tr>\n",
              "    <tr>\n",
              "      <th>1726</th>\n",
              "      <td>low</td>\n",
              "      <td>good</td>\n",
              "    </tr>\n",
              "    <tr>\n",
              "      <th>1727</th>\n",
              "      <td>low</td>\n",
              "      <td>vgood</td>\n",
              "    </tr>\n",
              "  </tbody>\n",
              "</table>\n",
              "</div>"
            ],
            "text/plain": [
              "     Price Decision\n",
              "1723   low     good\n",
              "1724   low    vgood\n",
              "1725   low    unacc\n",
              "1726   low     good\n",
              "1727   low    vgood"
            ]
          },
          "metadata": {
            "tags": []
          },
          "execution_count": 22
        }
      ]
    },
    {
      "cell_type": "markdown",
      "metadata": {
        "id": "pslHZJo90ejQ",
        "colab_type": "text"
      },
      "source": [
        "***Contar todos los valores que corresponden a la columna***"
      ]
    },
    {
      "cell_type": "code",
      "metadata": {
        "id": "DNEXm6vH0AqW",
        "colab_type": "code",
        "outputId": "203e88b9-406e-465c-818d-1abe267e167a",
        "colab": {
          "base_uri": "https://localhost:8080/",
          "height": 102
        }
      },
      "source": [
        "data['Decision'].value_counts()"
      ],
      "execution_count": 0,
      "outputs": [
        {
          "output_type": "execute_result",
          "data": {
            "text/plain": [
              "unacc    1210\n",
              "acc       384\n",
              "good       69\n",
              "vgood      65\n",
              "Name: Decision, dtype: int64"
            ]
          },
          "metadata": {
            "tags": []
          },
          "execution_count": 25
        }
      ]
    },
    {
      "cell_type": "markdown",
      "metadata": {
        "id": "fm4iH1bY05XR",
        "colab_type": "text"
      },
      "source": [
        "***Valores de la columna ordenados de manera ascendente***"
      ]
    },
    {
      "cell_type": "code",
      "metadata": {
        "id": "WqhnYR-x0qr0",
        "colab_type": "code",
        "colab": {}
      },
      "source": [
        "decision = data['Decision'].value_counts().sort_index(ascending=True)"
      ],
      "execution_count": 0,
      "outputs": []
    },
    {
      "cell_type": "markdown",
      "metadata": {
        "id": "jvajeGim1HYl",
        "colab_type": "text"
      },
      "source": [
        "***Valores de la columna ordenados de manera descendente***"
      ]
    },
    {
      "cell_type": "code",
      "metadata": {
        "id": "tR0Y9T3C1FGp",
        "colab_type": "code",
        "outputId": "ffc66f6b-7efc-480e-aa88-f860155e7b87",
        "colab": {
          "base_uri": "https://localhost:8080/",
          "height": 102
        }
      },
      "source": [
        "data['Decision'].value_counts().sort_index(ascending=False)"
      ],
      "execution_count": 0,
      "outputs": [
        {
          "output_type": "execute_result",
          "data": {
            "text/plain": [
              "vgood      65\n",
              "unacc    1210\n",
              "good       69\n",
              "acc       384\n",
              "Name: Decision, dtype: int64"
            ]
          },
          "metadata": {
            "tags": []
          },
          "execution_count": 27
        }
      ]
    },
    {
      "cell_type": "markdown",
      "metadata": {
        "id": "gqQcl_FL19TS",
        "colab_type": "text"
      },
      "source": [
        "***Gráfica de datos por la variable*** *Decision*"
      ]
    },
    {
      "cell_type": "code",
      "metadata": {
        "id": "ijfxQliP1mR9",
        "colab_type": "code",
        "outputId": "ed067c4a-1d57-4f35-8ea3-3c43363bf35e",
        "colab": {
          "base_uri": "https://localhost:8080/",
          "height": 303
        }
      },
      "source": [
        "decision.plot(kind='bar')"
      ],
      "execution_count": 0,
      "outputs": [
        {
          "output_type": "execute_result",
          "data": {
            "text/plain": [
              "<matplotlib.axes._subplots.AxesSubplot at 0x7effe5a48550>"
            ]
          },
          "metadata": {
            "tags": []
          },
          "execution_count": 31
        },
        {
          "output_type": "display_data",
          "data": {
            "image/png": "[encoded data removed]",
            "text/plain": [
              "<Figure size 432x288 with 1 Axes>"
            ]
          },
          "metadata": {
            "tags": [],
            "needs_background": "light"
          }
        }
      ]
    },
    {
      "cell_type": "markdown",
      "metadata": {
        "id": "7irXvlyk23oI",
        "colab_type": "text"
      },
      "source": [
        "**Unicos valores que corresponden a la columana**"
      ]
    },
    {
      "cell_type": "code",
      "metadata": {
        "id": "LycGs-Dt3BCV",
        "colab_type": "code",
        "outputId": "317266d2-8356-4ef8-b460-d174a08d3eaa",
        "colab": {
          "base_uri": "https://localhost:8080/",
          "height": 34
        }
      },
      "source": [
        "data['Price'].unique()"
      ],
      "execution_count": 0,
      "outputs": [
        {
          "output_type": "execute_result",
          "data": {
            "text/plain": [
              "array(['vhigh', 'high', 'med', 'low'], dtype=object)"
            ]
          },
          "metadata": {
            "tags": []
          },
          "execution_count": 32
        }
      ]
    },
    {
      "cell_type": "markdown",
      "metadata": {
        "id": "92V5P4nD3KNB",
        "colab_type": "text"
      },
      "source": [
        "**Remplazar datos por categorias**"
      ]
    },
    {
      "cell_type": "code",
      "metadata": {
        "id": "R6tglwKe3VCo",
        "colab_type": "code",
        "colab": {}
      },
      "source": [
        "data['Price'].replace(('vhigh','high','med','low'),(4,3,2,1) , inplace=True)"
      ],
      "execution_count": 0,
      "outputs": []
    },
    {
      "cell_type": "markdown",
      "metadata": {
        "id": "iSUedAAj346X",
        "colab_type": "text"
      },
      "source": [
        "**Categorias remplazadas**"
      ]
    },
    {
      "cell_type": "code",
      "metadata": {
        "id": "aN4uFpn53xlY",
        "colab_type": "code",
        "outputId": "3cff4fa4-800f-4f42-846e-33d8d19ea84f",
        "colab": {
          "base_uri": "https://localhost:8080/",
          "height": 34
        }
      },
      "source": [
        "data['Price'].unique()"
      ],
      "execution_count": 0,
      "outputs": [
        {
          "output_type": "execute_result",
          "data": {
            "text/plain": [
              "array([4, 3, 2, 1])"
            ]
          },
          "metadata": {
            "tags": []
          },
          "execution_count": 34
        }
      ]
    },
    {
      "cell_type": "code",
      "metadata": {
        "id": "UMcRNqDN4IGV",
        "colab_type": "code",
        "outputId": "e58a1223-752a-4e5f-f6d1-00023fb26512",
        "colab": {
          "base_uri": "https://localhost:8080/",
          "height": 119
        }
      },
      "source": [
        "data['Price'].sample(5)\n"
      ],
      "execution_count": 0,
      "outputs": [
        {
          "output_type": "execute_result",
          "data": {
            "text/plain": [
              "380     4\n",
              "844     3\n",
              "1546    1\n",
              "569     3\n",
              "1556    1\n",
              "Name: Price, dtype: int64"
            ]
          },
          "metadata": {
            "tags": []
          },
          "execution_count": 38
        }
      ]
    },
    {
      "cell_type": "markdown",
      "metadata": {
        "id": "nUDfaMdL4uMg",
        "colab_type": "text"
      },
      "source": [
        "**Pruebas**"
      ]
    },
    {
      "cell_type": "code",
      "metadata": {
        "id": "Yxf-X3ph4RMb",
        "colab_type": "code",
        "colab": {}
      },
      "source": [
        "price = data['Price'].value_counts()"
      ],
      "execution_count": 0,
      "outputs": []
    },
    {
      "cell_type": "code",
      "metadata": {
        "id": "dXoV6O4g41fh",
        "colab_type": "code",
        "outputId": "edf70bbb-516e-4b82-8e71-83da783a2740",
        "colab": {
          "base_uri": "https://localhost:8080/",
          "height": 309
        }
      },
      "source": [
        "colors = ['#00FFFF', '#FA58F4', '#FF8000', '#00FF40']\n",
        "price.plot(kind = 'bar', color = colors)\n",
        "plt.xlabel('Precio')\n",
        "plt.ylabel('Autos')\n",
        "plt.title('Precio de los autos')"
      ],
      "execution_count": 0,
      "outputs": [
        {
          "output_type": "execute_result",
          "data": {
            "text/plain": [
              "Text(0.5, 1.0, 'Precio de los autos')"
            ]
          },
          "metadata": {
            "tags": []
          },
          "execution_count": 41
        },
        {
          "output_type": "display_data",
          "data": {
            "image/png": "[encoded data removed]",
            "text/plain": [
              "<Figure size 432x288 with 1 Axes>"
            ]
          },
          "metadata": {
            "tags": [],
            "needs_background": "light"
          }
        }
      ]
    },
    {
      "cell_type": "markdown",
      "metadata": {
        "id": "kfbN_68Z8dye",
        "colab_type": "text"
      },
      "source": [
        "**Prueba 2**"
      ]
    },
    {
      "cell_type": "code",
      "metadata": {
        "id": "7o8cXyg_8dRl",
        "colab_type": "code",
        "outputId": "ffa70916-ebd2-4fbc-f13e-2c1041b91b4d",
        "colab": {
          "base_uri": "https://localhost:8080/",
          "height": 34
        }
      },
      "source": [
        "data['Safety'].unique()"
      ],
      "execution_count": 0,
      "outputs": [
        {
          "output_type": "execute_result",
          "data": {
            "text/plain": [
              "array(['low', 'med', 'high'], dtype=object)"
            ]
          },
          "metadata": {
            "tags": []
          },
          "execution_count": 42
        }
      ]
    },
    {
      "cell_type": "code",
      "metadata": {
        "id": "wfhXDWCq9_m1",
        "colab_type": "code",
        "outputId": "4eeebf90-68a7-4f9d-81a0-86b110225216",
        "colab": {
          "base_uri": "https://localhost:8080/",
          "height": 85
        }
      },
      "source": [
        "data['Safety'].value_counts()"
      ],
      "execution_count": 0,
      "outputs": [
        {
          "output_type": "execute_result",
          "data": {
            "text/plain": [
              "low     576\n",
              "high    576\n",
              "med     576\n",
              "Name: Safety, dtype: int64"
            ]
          },
          "metadata": {
            "tags": []
          },
          "execution_count": 43
        }
      ]
    },
    {
      "cell_type": "code",
      "metadata": {
        "id": "3fkVqBWQ-Gfo",
        "colab_type": "code",
        "colab": {}
      },
      "source": [
        "labels = ['low','med', 'high']"
      ],
      "execution_count": 0,
      "outputs": []
    },
    {
      "cell_type": "code",
      "metadata": {
        "id": "8ZI644LEBAll",
        "colab_type": "code",
        "colab": {}
      },
      "source": [
        "size = [576, 576, 576]\n",
        "colors = ['cyan', 'gray', 'orange']\n",
        "explode = [0.1,0,0]"
      ],
      "execution_count": 0,
      "outputs": []
    },
    {
      "cell_type": "code",
      "metadata": {
        "id": "coEsmpt1-ZOr",
        "colab_type": "code",
        "outputId": "8f32d35b-0822-446d-e0f5-339531a8bbd6",
        "colab": {
          "base_uri": "https://localhost:8080/",
          "height": 262
        }
      },
      "source": [
        "\n",
        "plt.pie(size, labels = labels, colors = colors, explode=explode, shadow=True, autopct= '%.2f%%')\n",
        "plt.title('Niveles de seguridad', fontsize=10)\n",
        "plt.axis('off')\n",
        "plt.legend(loc='right')\n",
        "plt.show()\n"
      ],
      "execution_count": 0,
      "outputs": [
        {
          "output_type": "display_data",
          "data": {
            "image/png": "[encoded data removed]",
            "text/plain": [
              "<Figure size 432x288 with 1 Axes>"
            ]
          },
          "metadata": {
            "tags": []
          }
        }
      ]
    }
  ]
}